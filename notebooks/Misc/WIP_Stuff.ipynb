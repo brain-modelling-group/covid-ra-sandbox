{
 "cells": [
  {
   "cell_type": "code",
   "execution_count": 1,
   "metadata": {},
   "outputs": [
    {
     "ename": "NameError",
     "evalue": "name 'plt' is not defined",
     "output_type": "error",
     "traceback": [
      "\u001b[1;31m---------------------------------------------------------------------------\u001b[0m",
      "\u001b[1;31mNameError\u001b[0m                                 Traceback (most recent call last)",
      "\u001b[1;32m<ipython-input-1-53de93ee2e48>\u001b[0m in \u001b[0;36m<module>\u001b[1;34m\u001b[0m\n\u001b[0;32m      1\u001b[0m \u001b[1;31m# Outbreak vs. Compliance\u001b[0m\u001b[1;33m\u001b[0m\u001b[1;33m\u001b[0m\u001b[1;33m\u001b[0m\u001b[0m\n\u001b[1;32m----> 2\u001b[1;33m \u001b[0mfig\u001b[0m\u001b[1;33m,\u001b[0m \u001b[0maxs\u001b[0m  \u001b[1;33m=\u001b[0m \u001b[0mplt\u001b[0m\u001b[1;33m.\u001b[0m\u001b[0msubplots\u001b[0m\u001b[1;33m(\u001b[0m\u001b[1;36m1\u001b[0m\u001b[1;33m,\u001b[0m \u001b[1;36m2\u001b[0m\u001b[1;33m)\u001b[0m\u001b[1;33m\u001b[0m\u001b[1;33m\u001b[0m\u001b[0m\n\u001b[0m\u001b[0;32m      3\u001b[0m \u001b[0mfig\u001b[0m\u001b[1;33m.\u001b[0m\u001b[0mset_size_inches\u001b[0m\u001b[1;33m(\u001b[0m\u001b[1;36m18.5\u001b[0m\u001b[1;33m,\u001b[0m \u001b[1;36m5.25\u001b[0m\u001b[1;33m)\u001b[0m\u001b[1;33m\u001b[0m\u001b[1;33m\u001b[0m\u001b[0m\n\u001b[0;32m      4\u001b[0m \u001b[0mfig\u001b[0m\u001b[1;33m.\u001b[0m\u001b[0msuptitle\u001b[0m\u001b[1;33m(\u001b[0m\u001b[1;34m'Outbreak Probability vs. Compliance and Testing Resources'\u001b[0m\u001b[1;33m)\u001b[0m\u001b[1;33m\u001b[0m\u001b[1;33m\u001b[0m\u001b[0m\n\u001b[0;32m      5\u001b[0m \u001b[1;33m\u001b[0m\u001b[0m\n",
      "\u001b[1;31mNameError\u001b[0m: name 'plt' is not defined"
     ]
    }
   ],
   "source": [
    "\n",
    "\n",
    "# Outbreak vs. Compliance\n",
    "fig, axs  = plt.subplots(1, 2)\n",
    "fig.set_size_inches(18.5, 5.25)\n",
    "fig.suptitle('Outbreak Probability vs. Compliance and Testing Resources')\n",
    "\n",
    "for ii in range(4): # Need OZ vs. UK\n",
    "    \n",
    "#     axs[0].plot(iq_factor_M[ii,:],outbreak_prob_M[ii,:],'.')\n",
    "#     axs[0].set_ylabel('Outbreak Probability')\n",
    "#     axs[0].set_xlabel('iq-factor')\n",
    "    axs[1].plot(num_tests_M[ii,:],outbreak_prob_M[ii,:],'.') \n",
    "    axs[1].set_xlabel('Number of Tests')\n",
    "    \n",
    "    # Split data by trial to make violin plots\n",
    "    unique_iq, unique_inverses = np.unique(iq_factor_M[ii,:],return_inverse = True)\n",
    "   \n",
    "    for jj in range(np.size(unique_iq)):        \n",
    "        \n",
    "        Probs_Current = np.empty([np.size(unique_iq), np.size(outbreak_prob_M)])\n",
    "        \n",
    "        for kk in range(np.size(outbreak_prob_M[ii,:])):      \n",
    "            \n",
    "            if iq_factor_M[ii,kk] == unique_iq[jj]:\n",
    "                    \n",
    "                Probs_Current[jj,kk] = outbreak_prob_M[ii,kk]\n",
    "                \n",
    "print(np.shape(Probs_Current))\n",
    "axs[0].violinplot(Probs_Current[~np.isnan(Probs_Current)])        \n",
    "axs[0].set_ylabel('Outbreak Probability')\n",
    "axs[0].set_xlabel('iq-factor')\n",
    "\n",
    "axs[0].legend(['QLD-Cluster', 'UK-Cluster','QLD-Poisson', 'UK-Poisson'])\n",
    "    \n",
    "plt.savefig('Testing_Compliance_vs_Outbreak.pdf')  \n"
   ]
  },
  {
   "cell_type": "code",
   "execution_count": null,
   "metadata": {},
   "outputs": [],
   "source": [
    "ii = 1\n",
    "# Split data by trial to make violin plots\n",
    "unique_iq, unique_inverses = np.unique(iq_factor_M[ii,:],return_inverse = True)\n",
    "\n",
    "for jj in range(np.size(unique_iq)):        \n",
    "\n",
    "    Probs_Current = np.empty([np.size(unique_iq), np.size(outbreak_prob_M)])\n",
    "\n",
    "    for kk in range(np.size(outbreak_prob_M[ii,:])):      \n",
    "\n",
    "        if iq_factor_M[ii,kk] == unique_iq[jj]:\n",
    "\n",
    "            Probs_Current[jj,kk] = outbreak_prob_M[ii,kk]\n",
    "            \n",
    "            \n",
    "Plot_This = Probs_Current[~np.isnan(Probs_Current)]\n",
    "Plot_This = np.reshape(Plot_This,(11,16000))\n",
    "                    \n",
    "                    \n",
    "fig = plt.figure()\n",
    "fig.set_size_inches(18.5, 10.5)\n",
    "axs = plt.gca()\n",
    "\n",
    "print(np.shape(Probs_Current),np.shape(~np.isnan(Probs_Current)), np.shape(Plot_This))\n",
    "iq_labels = []\n",
    "for ii in range(np.size(unique_iq)):\n",
    "    iq_labels[ii] = str(unique_iq[ii])\n",
    "\n",
    "\n",
    "axs.violinplot(Plot_This.T,unique_iq_labels)        \n",
    "axs.set_ylabel('Outbreak Probability')\n",
    "axs.set_xlabel('iq-factor')\n"
   ]
  },
  {
   "cell_type": "code",
   "execution_count": null,
   "metadata": {},
   "outputs": [],
   "source": [
    "fig, ax = plt.subplots(2, 2)\n",
    "fig.set_size_inches(18.5, 10.5)\n",
    "\n",
    "for ii in range(4):\n",
    "    \n",
    "    unique_iq, unique_inverses = np.unique(iq_factor_M[ii,:],return_inverse = True)\n",
    "    \n",
    "    if ii <= 1:\n",
    "        c = 0\n",
    "    else:\n",
    "        c = 1        \n",
    "        \n",
    "    \n",
    "    ax[c,ii % 2].plot(unique_inverses,'o')\n",
    "    \n",
    "plt.show()\n"
   ]
  }
 ],
 "metadata": {
  "kernelspec": {
   "display_name": "Python 3",
   "language": "python",
   "name": "python3"
  },
  "language_info": {
   "codemirror_mode": {
    "name": "ipython",
    "version": 3
   },
   "file_extension": ".py",
   "mimetype": "text/x-python",
   "name": "python",
   "nbconvert_exporter": "python",
   "pygments_lexer": "ipython3",
   "version": "3.7.4"
  }
 },
 "nbformat": 4,
 "nbformat_minor": 4
}
