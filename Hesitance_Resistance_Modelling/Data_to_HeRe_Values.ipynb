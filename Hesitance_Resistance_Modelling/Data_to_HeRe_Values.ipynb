{
 "cells": [
  {
   "cell_type": "markdown",
   "metadata": {},
   "source": [
    "# Hesitance and Resistance\n",
    "\n",
    "To model how vaccines affec the pandemic dynamics in QLD, we need accurate values on how likely the population is to recieve the vaccine. \n",
    "\n",
    "To do this, we will try and find the hesitance (fear of side-effects) and resistance (being anti-vaccination) to recieving the vaccine. We will gather data from many sources, and try to estimate the value in QLD. We will keep age group separated, and use recent data to observe which agent parameters may be important. "
   ]
  },
  {
   "cell_type": "markdown",
   "metadata": {},
   "source": [
    "## Worldwide values\n",
    "### A global survey of potential acceptance of a COVID-19 vaccine J. Lazarus et al., 2020 \n",
    "\n",
    "\n",
    "\n",
    "This paper has worldwide data (non Australian) for the acceptance of the vaccine. The two relevant questions they surveyed was: \"I would follow my employer’s recommendation to get a COVID-19 vaccine once the government has approved it as safe and effective\" and \"If a COVID-19 vaccine is proven safe and effective and is available to me, I will take it.\" \n",
    "\n",
    "To best model the ideal question \"Will you get the COVID-19 vaccine when it is available\" with no modifiers on the safety (i.e. it has been proven safe, but there is low-probability risk and arguments about effectivity), we will use the second question.\n",
    "\n",
    "The responses are 1-5 scale (completely disagree, somewhat disagree, neutral, somewhat agree, completely agree). Considering that taking the vaccine is an active choice, and avoiding it is passive, 1-3 (including neutral) will count as hesitant. \n",
    "\n",
    "Here we import the data and show the results.\n"
   ]
  },
  {
   "cell_type": "code",
   "execution_count": 16,
   "metadata": {},
   "outputs": [
    {
     "name": "stderr",
     "output_type": "stream",
     "text": [
      "C:\\Users\\Lhamb\\Anaconda3\\lib\\site-packages\\ipykernel_launcher.py:29: RuntimeWarning: invalid value encountered in greater\n"
     ]
    },
    {
     "ename": "ValueError",
     "evalue": "The truth value of an array with more than one element is ambiguous. Use a.any() or a.all()",
     "output_type": "error",
     "traceback": [
      "\u001b[1;31m---------------------------------------------------------------------------\u001b[0m",
      "\u001b[1;31mValueError\u001b[0m                                Traceback (most recent call last)",
      "\u001b[1;32m<ipython-input-16-050c8190bb8c>\u001b[0m in \u001b[0;36m<module>\u001b[1;34m\u001b[0m\n\u001b[0;32m     27\u001b[0m \u001b[1;31m# Separate data by age\u001b[0m\u001b[1;33m\u001b[0m\u001b[1;33m\u001b[0m\u001b[1;33m\u001b[0m\u001b[0m\n\u001b[0;32m     28\u001b[0m \u001b[1;33m\u001b[0m\u001b[0m\n\u001b[1;32m---> 29\u001b[1;33m \u001b[0mprint\u001b[0m\u001b[1;33m(\u001b[0m\u001b[1;33m(\u001b[0m\u001b[0mAgeGroups\u001b[0m\u001b[1;33m[\u001b[0m\u001b[1;36m1\u001b[0m\u001b[1;33m]\u001b[0m \u001b[1;33m<\u001b[0m \u001b[0mAges\u001b[0m \u001b[1;32mand\u001b[0m \u001b[0mAgeGroups\u001b[0m\u001b[1;33m[\u001b[0m\u001b[1;36m2\u001b[0m\u001b[1;33m]\u001b[0m \u001b[1;33m>\u001b[0m \u001b[0mAges\u001b[0m \u001b[1;33m)\u001b[0m\u001b[1;33m.\u001b[0m\u001b[0mall\u001b[0m\u001b[1;33m(\u001b[0m\u001b[1;33m)\u001b[0m \u001b[1;33m)\u001b[0m\u001b[1;33m\u001b[0m\u001b[1;33m\u001b[0m\u001b[0m\n\u001b[0m\u001b[0;32m     30\u001b[0m \u001b[1;33m\u001b[0m\u001b[0m\n\u001b[0;32m     31\u001b[0m \u001b[1;32mfor\u001b[0m \u001b[0mii\u001b[0m \u001b[1;32min\u001b[0m \u001b[0mrange\u001b[0m\u001b[1;33m(\u001b[0m\u001b[0mnp\u001b[0m\u001b[1;33m.\u001b[0m\u001b[0msize\u001b[0m\u001b[1;33m(\u001b[0m\u001b[0mAgeGroups\u001b[0m\u001b[1;33m)\u001b[0m\u001b[1;33m-\u001b[0m\u001b[1;36m1\u001b[0m\u001b[1;33m)\u001b[0m\u001b[1;33m:\u001b[0m\u001b[1;33m\u001b[0m\u001b[1;33m\u001b[0m\u001b[0m\n",
      "\u001b[1;31mValueError\u001b[0m: The truth value of an array with more than one element is ambiguous. Use a.any() or a.all()"
     ]
    }
   ],
   "source": [
    "import scipy\n",
    "import pandas as pd\n",
    "import scipy\n",
    "import numpy as np\n",
    "import matplotlib\n",
    "import matplotlib.patches as mpatches\n",
    "import matplotlib.pyplot as plt\n",
    "import math \n",
    "import csv\n",
    "import sys\n",
    "\n",
    "if 'Data' in locals():\n",
    "    0\n",
    "else:\n",
    "    Data = pd.read_excel('Lazarus_2020_Data.xlsx')\n",
    "\n",
    "# Use Age and Vaccine and vacc2\n",
    "    \n",
    "AgeGroups = [0,4,9,14,19,24,29,34,39,44,49,54,59,64,69,74,79,84,89,94,99,104]\n",
    "\n",
    "# print(AgeGroups)\n",
    "# print()\n",
    "Ages = np.array(Data['Age'])\n",
    "VaccineResponse = np.array(Data['Vaccine'])\n",
    "\n",
    "Hesitance = np.zeros(np.size(AgeGroups)-1)\n",
    "# Separate data by age\n",
    "\n",
    "print((AgeGroups[1] < Ages and AgeGroups[2] > Ages ).all() ) \n",
    "\n",
    "for ii in range(np.size(AgeGroups)-1):\n",
    "    Mask = (Ages.all() > AgeGroups[ii]  and Ages.all() <= AgeGroups[ii])\n",
    "#     print(np.sum(Mask)+ii)\n",
    "    ThisAge = VaccineResponse[Mask]\n",
    "    Hesitance[ii] = np.sum(ThisAge>3)/np.size(ThisAge)\n",
    "    \n",
    "\n",
    "print(Hesitance)\n",
    "\n",
    "\n",
    "\n"
   ]
  },
  {
   "cell_type": "code",
   "execution_count": 66,
   "metadata": {},
   "outputs": [
    {
     "name": "stderr",
     "output_type": "stream",
     "text": [
      "C:\\Users\\Lhamb\\Anaconda3\\lib\\site-packages\\ipykernel_launcher.py:1: DeprecationWarning: elementwise comparison failed; this will raise an error in the future.\n",
      "  \"\"\"Entry point for launching an IPython kernel.\n"
     ]
    },
    {
     "data": {
      "text/plain": [
       "array([], shape=(0, 13426), dtype=object)"
      ]
     },
     "execution_count": 66,
     "metadata": {},
     "output_type": "execute_result"
    }
   ],
   "source": []
  }
 ],
 "metadata": {
  "kernelspec": {
   "display_name": "Python 3",
   "language": "python",
   "name": "python3"
  },
  "language_info": {
   "codemirror_mode": {
    "name": "ipython",
    "version": 3
   },
   "file_extension": ".py",
   "mimetype": "text/x-python",
   "name": "python",
   "nbconvert_exporter": "python",
   "pygments_lexer": "ipython3",
   "version": "3.7.7"
  }
 },
 "nbformat": 4,
 "nbformat_minor": 4
}
